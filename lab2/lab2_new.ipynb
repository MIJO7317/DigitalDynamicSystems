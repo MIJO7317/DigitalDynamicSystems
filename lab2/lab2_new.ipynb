{
 "cells": [
  {
   "cell_type": "code",
   "execution_count": 1,
   "metadata": {},
   "outputs": [],
   "source": [
    "from lcapy import *"
   ]
  },
  {
   "cell_type": "code",
   "execution_count": 22,
   "metadata": {},
   "outputs": [
    {
     "ename": "AttributeError",
     "evalue": "'LaplaceDomainExpression' object has no attribute 'residues'",
     "output_type": "error",
     "traceback": [
      "\u001b[1;31m---------------------------------------------------------------------------\u001b[0m",
      "\u001b[1;31mAttributeError\u001b[0m                            Traceback (most recent call last)",
      "File \u001b[1;32mc:\\Users\\stas2\\AppData\\Local\\Programs\\Python\\Python39\\lib\\site-packages\\lcapy\\expr.py:1119\u001b[0m, in \u001b[0;36mExpr.__getattr__\u001b[1;34m(self, attr)\u001b[0m\n\u001b[0;32m   1118\u001b[0m \u001b[39mtry\u001b[39;00m:\n\u001b[1;32m-> 1119\u001b[0m     a \u001b[39m=\u001b[39m \u001b[39mgetattr\u001b[39;49m(expr1, attr)\n\u001b[0;32m   1120\u001b[0m \u001b[39mexcept\u001b[39;00m:\n\u001b[0;32m   1121\u001b[0m     \u001b[39m# Hack for ubuntu-20.04, python 3.7 and 3.8\u001b[39;00m\n",
      "\u001b[1;31mAttributeError\u001b[0m: 'Mul' object has no attribute 'residues'",
      "\nDuring handling of the above exception, another exception occurred:\n",
      "\u001b[1;31mAttributeError\u001b[0m                            Traceback (most recent call last)",
      "\u001b[1;32mc:\\Users\\stas2\\Desktop\\ВУЗ\\Тау\\Python Code\\DigitalDynamicSystems\\lab2\\lab2_new.ipynb Ячейка 2\u001b[0m in \u001b[0;36m<cell line: 6>\u001b[1;34m()\u001b[0m\n\u001b[0;32m      <a href='vscode-notebook-cell:/c%3A/Users/stas2/Desktop/%D0%92%D0%A3%D0%97/%D0%A2%D0%B0%D1%83/Python%20Code/DigitalDynamicSystems/lab2/lab2_new.ipynb#W1sZmlsZQ%3D%3D?line=3'>4</a>\u001b[0m poles \u001b[39m=\u001b[39m H\u001b[39m.\u001b[39mpoles()\n\u001b[0;32m      <a href='vscode-notebook-cell:/c%3A/Users/stas2/Desktop/%D0%92%D0%A3%D0%97/%D0%A2%D0%B0%D1%83/Python%20Code/DigitalDynamicSystems/lab2/lab2_new.ipynb#W1sZmlsZQ%3D%3D?line=4'>5</a>\u001b[0m \u001b[39m# Find residues in the poles\u001b[39;00m\n\u001b[1;32m----> <a href='vscode-notebook-cell:/c%3A/Users/stas2/Desktop/%D0%92%D0%A3%D0%97/%D0%A2%D0%B0%D1%83/Python%20Code/DigitalDynamicSystems/lab2/lab2_new.ipynb#W1sZmlsZQ%3D%3D?line=5'>6</a>\u001b[0m residues \u001b[39m=\u001b[39m H\u001b[39m.\u001b[39;49mresidues()\n",
      "File \u001b[1;32mc:\\Users\\stas2\\AppData\\Local\\Programs\\Python\\Python39\\lib\\site-packages\\lcapy\\expr.py:1124\u001b[0m, in \u001b[0;36mExpr.__getattr__\u001b[1;34m(self, attr)\u001b[0m\n\u001b[0;32m   1122\u001b[0m     \u001b[39mif\u001b[39;00m attr \u001b[39m==\u001b[39m \u001b[39m'\u001b[39m\u001b[39mabbrev\u001b[39m\u001b[39m'\u001b[39m:\n\u001b[0;32m   1123\u001b[0m         \u001b[39mreturn\u001b[39;00m \u001b[39m'\u001b[39m\u001b[39m'\u001b[39m\n\u001b[1;32m-> 1124\u001b[0m     \u001b[39mraise\u001b[39;00m \u001b[39mAttributeError\u001b[39;00m(\u001b[39m\"\u001b[39m\u001b[39m'\u001b[39m\u001b[39m%s\u001b[39;00m\u001b[39m'\u001b[39m\u001b[39m object has no attribute \u001b[39m\u001b[39m'\u001b[39m\u001b[39m%s\u001b[39;00m\u001b[39m'\u001b[39m\u001b[39m\"\u001b[39m \u001b[39m%\u001b[39m (\n\u001b[0;32m   1125\u001b[0m         \u001b[39mself\u001b[39m\u001b[39m.\u001b[39m\u001b[39m__class__\u001b[39m\u001b[39m.\u001b[39m\u001b[39m__name__\u001b[39m, attr))\n\u001b[0;32m   1127\u001b[0m \u001b[39m# This gets called if there is no explicit attribute attr for\u001b[39;00m\n\u001b[0;32m   1128\u001b[0m \u001b[39m# this instance.  We call the method of the wrapped sympy\u001b[39;00m\n\u001b[0;32m   1129\u001b[0m \u001b[39m# class and rewrap the returned value if it is a sympy Expr\u001b[39;00m\n\u001b[1;32m   (...)\u001b[0m\n\u001b[0;32m   1134\u001b[0m \n\u001b[0;32m   1135\u001b[0m \u001b[39m# If it is not callable, directly wrap it.\u001b[39;00m\n\u001b[0;32m   1136\u001b[0m \u001b[39mif\u001b[39;00m \u001b[39mnot\u001b[39;00m callable(a):\n",
      "\u001b[1;31mAttributeError\u001b[0m: 'LaplaceDomainExpression' object has no attribute 'residues'"
     ]
    }
   ],
   "source": [
    "# Transfer function\n",
    "H = (0.3*s + 1)/(0.25*s+1)/(0.04*s**2+0.07*s+1)"
   ]
  }
 ],
 "metadata": {
  "kernelspec": {
   "display_name": "Python 3.9.10 64-bit",
   "language": "python",
   "name": "python3"
  },
  "language_info": {
   "codemirror_mode": {
    "name": "ipython",
    "version": 3
   },
   "file_extension": ".py",
   "mimetype": "text/x-python",
   "name": "python",
   "nbconvert_exporter": "python",
   "pygments_lexer": "ipython3",
   "version": "3.9.10"
  },
  "orig_nbformat": 4,
  "vscode": {
   "interpreter": {
    "hash": "670f886bb491df400b8a46c547cdac4d4234710212a6195cc7ddd83502d821f4"
   }
  }
 },
 "nbformat": 4,
 "nbformat_minor": 2
}
